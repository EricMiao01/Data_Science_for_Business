{
  "nbformat": 4,
  "nbformat_minor": 0,
  "metadata": {
    "colab": {
      "provenance": [],
      "toc_visible": true,
      "mount_file_id": "1TAqCHiyrpH7_sONjbTZIj0zgGlwuCoCw",
      "authorship_tag": "ABX9TyNei58JfMkImAGt1LTUzWl+",
      "include_colab_link": true
    },
    "kernelspec": {
      "name": "python3",
      "display_name": "Python 3"
    },
    "language_info": {
      "name": "python"
    }
  },
  "cells": [
    {
      "cell_type": "markdown",
      "metadata": {
        "id": "view-in-github",
        "colab_type": "text"
      },
      "source": [
        "<a href=\"https://colab.research.google.com/github/EricMiao01/Data_Science_for_Business/blob/main/%E5%95%86%E6%A5%AD%E6%99%BA%E6%85%A7%E5%88%86%E6%9E%90_%E5%B0%88%E9%A1%8C%E7%B7%B4%E7%BF%92.ipynb\" target=\"_parent\"><img src=\"https://colab.research.google.com/assets/colab-badge.svg\" alt=\"Open In Colab\"/></a>"
      ]
    },
    {
      "cell_type": "markdown",
      "source": [
        "# 第一題\n",
        "寫一個程式，能夠讀入符合上述格式的 grade.txt 檔，程式執行上述的測資例子時執行畫面上會印出如下內容<br>\n",
        "Student 1: John;84;75;79; <br>\n",
        "Student 2: Mary;92;91;86; <br>\n",
        "Student 3: Tom;50;70;61; <br>\n",
        "Student 4: Lisa;90;99;93;<br>"
      ],
      "metadata": {
        "id": "yDHTNnO3Of-j"
      }
    },
    {
      "cell_type": "code",
      "execution_count": null,
      "metadata": {
        "colab": {
          "base_uri": "https://localhost:8080/"
        },
        "id": "NuKrfq-mN421",
        "outputId": "4bfcb601-91c6-4ca7-d4d7-c16e0869bc83"
      },
      "outputs": [
        {
          "output_type": "stream",
          "name": "stdout",
          "text": [
            "Student 1:John;84;75;79;\n",
            "Student 2:Mary;92;91;86;\n",
            "Student 3:Tom;50;70;61;\n",
            "Student 4:Lisa;90;99;93;\n"
          ]
        }
      ],
      "source": [
        "grade = open('grade.txt', 'r')\n",
        "grade.seek(0)\n",
        "\n",
        "i = 1\n",
        "cheader = grade.readline()\n",
        "\n",
        "while True:\n",
        "    aline = grade.readline()\n",
        "    if aline == '':\n",
        "        break\n",
        "    print(f'Student {i}:{aline.strip()}')\n",
        "    i += 1\n",
        "\n",
        "grade.close()"
      ]
    },
    {
      "cell_type": "markdown",
      "source": [
        "# 第二題\n",
        "一個程式，能夠讀入符合格式的 grade.txt 檔，程式執行上述的測資例子時執行畫面上會印出每一位學生 兩種版本的平均如下 (Version 1:小數點無條件捨去。Version 2:小數點第一位四捨五入進位至整數。)"
      ],
      "metadata": {
        "id": "iOpNxoFjSfda"
      }
    },
    {
      "cell_type": "code",
      "source": [
        "f = open(\"grade.txt\", 'r')\n",
        "f.seek(0)\n",
        "cheader = f.readline() # 故意先讀row1，因為之後用不到\n",
        "avg = {}\n",
        "\n",
        "def printAvg(avg, Round):\n",
        "    for key in avg:\n",
        "        if Round == True:\n",
        "            print(f'{key}\\'s avg: {round(avg[key])}')\n",
        "        else:\n",
        "            print(f'{key}\\'s avg: {int(avg[key])}')\n",
        "    pass\n",
        "\n",
        "while True:\n",
        "    sum = 0\n",
        "    aline = f.readline()\n",
        "    x = aline.split(';')\n",
        "    if aline != '':\n",
        "        for i in range(1, 4):\n",
        "            sum += int(x[i])\n",
        "        avg[x[0]] = (sum / 3)\n",
        "    else:\n",
        "        break\n",
        "\n",
        "print(\"Version 1\")\n",
        "printAvg(avg, False)\n",
        "print()\n",
        "print(\"Version 2\")\n",
        "printAvg(avg, True)\n",
        "f.close()"
      ],
      "metadata": {
        "colab": {
          "base_uri": "https://localhost:8080/"
        },
        "id": "YEnvcLWfSe68",
        "outputId": "dadc62b6-a805-4503-c924-7629ee5a0e98"
      },
      "execution_count": null,
      "outputs": [
        {
          "output_type": "stream",
          "name": "stdout",
          "text": [
            "Version 1\n",
            "John's avg: 79\n",
            "Mary's avg: 89\n",
            "Tom's avg: 60\n",
            "Lisa's avg: 94\n",
            "\n",
            "Version 2\n",
            "John's avg: 79\n",
            "Mary's avg: 90\n",
            "Tom's avg: 60\n",
            "Lisa's avg: 94\n"
          ]
        }
      ]
    },
    {
      "cell_type": "markdown",
      "source": [
        "# 第三題\n",
        "寫一個程式，能夠讀入符合格式的 grade.txt 檔，程式執行上述的測資例子時會將學生的小數點無條件捨去的平均成績和通過與否 (60 分以上顯示為pass，否則顯示為fail) 除了顯示在執行畫面上外，亦會把內容畫面上的內容輸出到一個FinalGrade.txt 內。(在程式執行完後相對路徑內可以找到一個有以下內容的FinalGrade.txt\n",
        "檔 )"
      ],
      "metadata": {
        "id": "NlIa83bd5Adv"
      }
    },
    {
      "cell_type": "code",
      "source": [
        "f = open(\"grade.txt\", 'r')\n",
        "final = open(\"FinalGrade.txt\", 'r+')\n",
        "f.seek(0)\n",
        "final.seek(0)\n",
        "cheader = f.readline()\n",
        "\n",
        "def isPass(avg): #avg is int()\n",
        "    if avg >= 60:\n",
        "        return \"(pass)\"\n",
        "    else:\n",
        "        return \n",
        "while True:\n",
        "    sum = 0\n",
        "    aline = f.readline()\n",
        "    student = aline.split(';')\n",
        "    if aline != '':\n",
        "        for i in range(1, 4):\n",
        "            sum += int(student[i])\n",
        "        avg = int(sum / 3) \n",
        "        final.write(f'{student[0]}\\'s avg:{avg}{isPass(avg)}\\n')\n",
        "    else:\n",
        "        break\n",
        "\n",
        "# 此段只是為了檢察\n",
        "final.seek(0)\n",
        "list1 = final.readlines()\n",
        "print(list1)\n",
        "\n",
        "f.close()\n",
        "final.close()"
      ],
      "metadata": {
        "id": "Q_B3Vn6QQ6xd",
        "colab": {
          "base_uri": "https://localhost:8080/"
        },
        "outputId": "13cc82dc-fce2-4a51-f6a4-c6df505aa6cb"
      },
      "execution_count": null,
      "outputs": [
        {
          "output_type": "stream",
          "name": "stdout",
          "text": [
            "['4', '3', '\\n']\n",
            "[\"John's avg:79(pass)\\n\", \"Mary's avg:89(pass)\\n\", \"Tom's avg:60(pass)\\n\", \"Lisa's avg:94(pass)\\n\"]\n"
          ]
        }
      ]
    },
    {
      "cell_type": "markdown",
      "source": [
        "# 第四題\n",
        "寫一個程式，能夠讀入符合格式的 grade.txt 檔，讓使用者輸入一個姓名，程式執行上述的測資例子時會將指定姓名的學生小數點無條件捨去的平均成績與班排名 (排名/總人數) 顯示在螢幕上，並將所有人的小數點無條件捨去的平均成績由高到低排好。請注意，若使用者輸入的學生姓名查無此人，則顯示“A wrong name”"
      ],
      "metadata": {
        "id": "JUqDGTk8-tIv"
      }
    },
    {
      "cell_type": "code",
      "source": [
        "def fileToDict(file):\n",
        "    info = dict()\n",
        "    file.seek(0)\n",
        "    cheader = file.readline().split(';')\n",
        "    m = int(cheader[0])\n",
        "    n = int(cheader[1])\n",
        "    for i in range(m):\n",
        "        aline = file.readline().split(';')\n",
        "        info[aline[0]] = []\n",
        "        for j in range(1, n + 1):\n",
        "            info[aline[0]].append(aline[j])\n",
        "    f.close()\n",
        "    return grade\n",
        "\n",
        "def avgGrade(info):\n",
        "    avgGrade = dict()\n",
        "    for stu in info:\n",
        "        grade = info[stu]\n",
        "        sum = 0\n",
        "        for x in grade:\n",
        "            sum += int(x)\n",
        "        avg = int(sum / len(grade))\n",
        "        avgGrade[stu] = avg\n",
        "    return avgGrade\n",
        "    \n",
        "\n",
        "f = open('grade.txt', 'r')\n",
        "info = fileToDict(f) # 一個dict()，記錄所有學生每次考試的成績\n",
        "avg_grade = avgGrade(info) # 一個dict()，記錄所有學生的總平均\n",
        "\n",
        "# 排出正確高低排名的成績list\n",
        "rank = []\n",
        "for astu in avg_grade:\n",
        "    rank.append(avg_grade[astu])\n",
        "rank.sort(reverse = True)\n",
        "\n",
        "# 主程式\n",
        "name = input(\"Please type a name:\")\n",
        "if name not in avg_grade.keys():\n",
        "    print(\"A wrong name\")\n",
        "else:\n",
        "    print(f'{name}\\'s avg:{avg_grade[name]}')\n",
        "    print(f'{name}\\'s score ranking:{rank.index(avg_grade[name]) + 1} / {len(rank)}')\n",
        "    print(\"The list of the scores ranking:\")\n",
        "\n",
        "    # 製作一個學生:成績反向對應的dict()\n",
        "    new_dict = {v: k for k, v in avg_grade.items()}\n",
        "    for agrade in rank:\n",
        "        print(f'{new_dict[agrade]}\\'s avg: {agrade}')\n",
        " "
      ],
      "metadata": {
        "colab": {
          "base_uri": "https://localhost:8080/"
        },
        "id": "ykMIoZVx73qx",
        "outputId": "4239bb10-bd43-4639-9e84-9068bb6dd984"
      },
      "execution_count": 72,
      "outputs": [
        {
          "output_type": "stream",
          "name": "stdout",
          "text": [
            "Please type a name:Lisa\n",
            "Lisa's avg:94\n",
            "Lisa's score ranking:1 / 4\n",
            "The list of the scores ranking:\n",
            "Lisa's avg: 94\n",
            "Mary's avg: 89\n",
            "John's avg: 79\n",
            "Tom's avg: 60\n"
          ]
        }
      ]
    },
    {
      "cell_type": "markdown",
      "source": [
        "# 第五題\n",
        "寫一個程式，開始執行時會將符合格式的grade.txt 讀入，接著螢幕上會顯示四個選項讓使用者選擇，注意，本題所使用的平均數皆使用小數點無條件捨去。<br>\n",
        "1.Show all students’ grades<br>\n",
        "2.Show the avg. for each student<br>\n",
        "3.Show a student’s avg. score ranking and the sorted avg. values for all students<br>\n",
        "4.Exit and output a final report<br>\n",
        "Choose an option (1-4):"
      ],
      "metadata": {
        "id": "Y02JX1osPR6D"
      }
    },
    {
      "cell_type": "code",
      "source": [
        "def fileToDict(file):\n",
        "    info = dict()\n",
        "    file.seek(0)\n",
        "    cheader = file.readline().split(';')\n",
        "    m = int(cheader[0])\n",
        "    n = int(cheader[1])\n",
        "    for i in range(m):\n",
        "        aline = file.readline().split(';')\n",
        "        info[aline[0]] = []\n",
        "        for j in range(1, n + 1):\n",
        "            info[aline[0]].append(aline[j])\n",
        "    f.close()\n",
        "    return grade\n",
        "\n",
        "def avgGrade(info):\n",
        "    avgGrade = dict()\n",
        "    for stu in info:\n",
        "        grade = info[stu]\n",
        "        sum = 0\n",
        "        for x in grade:\n",
        "            sum += int(x)\n",
        "        avg = int(sum / len(grade))\n",
        "        avgGrade[stu] = avg\n",
        "    return avgGrade\n",
        "\n",
        "# 1\n",
        "def allInfo(info):\n",
        "    i = 1\n",
        "    for stu in info:\n",
        "        print(f'Student{i}:{stu};',end = '')\n",
        "        for x in info[stu]:\n",
        "            print(x, end = ';')\n",
        "        print()\n",
        "#2\n",
        "def allAvg(avg_grade):\n",
        "    for stu in avg_grade:\n",
        "        print(f'{stu}\\'s avg:{avg_grade[stu]}')\n",
        "    \n",
        "#3\n",
        "def rank(avg_grade):\n",
        "    rank = []\n",
        "    for stu in avg_grade:\n",
        "        rank.append(avg_grade[stu])\n",
        "        rank.sort(reverse = True)\n",
        "    name = input(\"Please type a name:\")\n",
        "    if name not in avg_grade.keys():\n",
        "        print(\"A wrong name\")\n",
        "        return\n",
        "    else:\n",
        "       print(f'{name}\\'s avg:{avg_grade[name]}')\n",
        "       print(f'{name}\\'s score ranking: {rank.index(avg_grade[name]) + 1} / {len(rank)}')\n",
        "       print()\n",
        "       print(\"The list of the ranking:\")\n",
        "       tmp = {v: k for k, v in avg_grade.items()}\n",
        "       for x in rank:\n",
        "           print(f'{tmp[x]}\\'s avg: {x}') \n",
        "\n",
        "f = open('grade.txt', 'r')\n",
        "info = fileToDict(f) # 一個dict()，記錄所有學生每次考試的成績\n",
        "avg_grade = avgGrade(info) # 一個dict()，記錄所有學生的總平均\n",
        "\n",
        "while True:\n",
        "    i = int(input(\"Choose an option (1-4):\"))\n",
        "    if i == 1:\n",
        "        allInfo(info)\n",
        "    elif i == 2:\n",
        "        allAvg(avg_grade)\n",
        "    elif i == 3:\n",
        "        rank(avg_grade)\n",
        "    elif i == 4:\n",
        "        break\n",
        "    else:\n",
        "        print(\"wrong\")"
      ],
      "metadata": {
        "colab": {
          "base_uri": "https://localhost:8080/"
        },
        "id": "pnmGIx7XPkW4",
        "outputId": "57ba31ef-bd3f-44bb-cb89-a825d87eca07"
      },
      "execution_count": 71,
      "outputs": [
        {
          "name": "stdout",
          "output_type": "stream",
          "text": [
            "Choose an option (1-4):1\n",
            "Student1:John;84;75;79;\n",
            "Student1:Mary;92;91;86;\n",
            "Student1:Tom;50;70;61;\n",
            "Student1:Lisa;90;99;93;\n",
            "Choose an option (1-4):2\n",
            "John's avg:79\n",
            "Mary's avg:89\n",
            "Tom's avg:60\n",
            "Lisa's avg:94\n",
            "Choose an option (1-4):3\n",
            "Please type a name:Mary\n",
            "Mary's avg:89\n",
            "Mary's score ranking: 2 / 4\n",
            "\n",
            "The list of the ranking:\n",
            "Lisa's avg: 94\n",
            "Mary's avg: 89\n",
            "John's avg: 79\n",
            "Tom's avg: 60\n",
            "Choose an option (1-4):4\n"
          ]
        }
      ]
    },
    {
      "cell_type": "code",
      "source": [],
      "metadata": {
        "id": "ob3As5CGVbiJ"
      },
      "execution_count": null,
      "outputs": []
    }
  ]
}