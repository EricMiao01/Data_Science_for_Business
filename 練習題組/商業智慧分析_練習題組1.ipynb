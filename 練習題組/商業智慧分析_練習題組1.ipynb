{
 "cells": [
  {
   "cell_type": "markdown",
   "id": "0edaefc4",
   "metadata": {},
   "source": [
    "# 第一題\n",
    "寫一個程式，讓使用者輸入可為小數點之身高(公分)與體重(公斤)，接著計算其對應之 BMI 值，並將值的整數部分顯示在螢幕上。"
   ]
  },
  {
   "cell_type": "code",
   "execution_count": 5,
   "id": "e3d1c18f",
   "metadata": {
    "scrolled": false
   },
   "outputs": [
    {
     "name": "stdout",
     "output_type": "stream",
     "text": [
      "Type your height(cm): 187.8\n",
      "Type your weight(kg): 81.5\n",
      "Your BMI is: 23\n"
     ]
    }
   ],
   "source": [
    "# 取得身高體重資訊\n",
    "height_cm = float(input(\"Type your height(cm): \"))\n",
    "weight = float(input(\"Type your weight(kg): \"))\n",
    "\n",
    "# 換算身高單位 cm --> m\n",
    "height_m = (height_cm / 100)\n",
    "\n",
    "bmi = int(weight / (height_m ** 2))\n",
    "print(\"Your BMI is:\", bmi)"
   ]
  },
  {
   "cell_type": "markdown",
   "id": "16960501",
   "metadata": {},
   "source": [
    "---"
   ]
  },
  {
   "cell_type": "markdown",
   "id": "32cd6ea3",
   "metadata": {},
   "source": [
    "# 第二題\n",
    "寫一個程式，讓使用者輸入 $a, b, c$ 三個整數值，並求出對應的二次方程式 $ax^2 + bx + c = 0$ 之 $x$ 的解。並將 $x$ 的解顯示在螢幕上。程式要能夠判斷對應的輸入 $a, b, c$ 是否為實數解。<br>\n",
    "提示: $$x = {-b \\pm \\sqrt{b^2 - 4ac} \\over 2a}$$"
   ]
  },
  {
   "cell_type": "code",
   "execution_count": 5,
   "id": "ca82d5c9",
   "metadata": {},
   "outputs": [
    {
     "name": "stdout",
     "output_type": "stream",
     "text": [
      "Type a: 1\n",
      "Type b: 4\n",
      "Type c: -5\n",
      "The solution of the equation is: 1, -5\n"
     ]
    }
   ],
   "source": [
    "# 取得 a, b, c\n",
    "a = int(input(\"Type a: \"))\n",
    "b = int(input(\"Type b: \"))\n",
    "c = int(input(\"Type c: \"))\n",
    "\n",
    "# 判別式\n",
    "discriminant = float((b ** 2) - (4 * a * c))\n",
    "\n",
    "# 主程式\n",
    "x1 = int(((-b) + (discriminant ** 0.5)) / (2 * a))\n",
    "x2 = int(((-b) - (discriminant ** 0.5)) / (2 * a))\n",
    "\n",
    "if discriminant >= 0:\n",
    "    print(\"The solution of the equation is: {}, {}\".format(x1, x2))\n",
    "else:\n",
    "    print(\"No real solution!\")"
   ]
  },
  {
   "cell_type": "markdown",
   "id": "61403679",
   "metadata": {},
   "source": [
    "---"
   ]
  },
  {
   "cell_type": "markdown",
   "id": "a49108ee",
   "metadata": {},
   "source": [
    "# 第三題\n",
    "寫一個程式，讓使用者輸入任一個值 $y$，接著計算這個值的絕對值 $\\mid y \\mid$，並將絕對值顯示在螢幕上。"
   ]
  },
  {
   "cell_type": "code",
   "execution_count": 9,
   "id": "ecef43aa",
   "metadata": {},
   "outputs": [
    {
     "name": "stdout",
     "output_type": "stream",
     "text": [
      "Type y: -3.3\n",
      "The absolute value of y is: 3.3\n"
     ]
    }
   ],
   "source": [
    "#取得數值\n",
    "y = float(input(\"Type y: \"))\n",
    "\n",
    "#主程式\n",
    "if y < 0:\n",
    "    y_prime = -y\n",
    "    print(\"The absolute value of y is:\", y_prime)\n",
    "else:\n",
    "    print(\"The absolute value of y is:\", y)"
   ]
  },
  {
   "cell_type": "markdown",
   "id": "8a90c030",
   "metadata": {},
   "source": [
    "---"
   ]
  },
  {
   "cell_type": "markdown",
   "id": "466add7a",
   "metadata": {},
   "source": [
    "# 第四題\n",
    "寫一個程式，讓使用者輸入任一個浮點數值 $x$，接著程式會印出 $x$ 的整數部分，並判斷這一個浮點數的整數部分是否為奇數並印在螢幕上。"
   ]
  },
  {
   "cell_type": "code",
   "execution_count": 15,
   "id": "3c735dbc",
   "metadata": {},
   "outputs": [
    {
     "name": "stdout",
     "output_type": "stream",
     "text": [
      "Type x: 8.41\n",
      "The integral part of x is: 8\n",
      "8 is not an odd number\n"
     ]
    }
   ],
   "source": [
    "# 取得數值\n",
    "x = float(input(\"Type x: \"))\n",
    "\n",
    "# 利用大部分情況下int()為無條件捨去的方式取整數\n",
    "x_int = int(x)\n",
    "print(\"The integral part of x is:\", x_int)\n",
    "\n",
    "# 檢查整數部分是否為偶數\n",
    "if (x_int % 2 ) == 0:\n",
    "    print(x_int, \"is not an odd number\")\n",
    "else:\n",
    "    print(x_int, \"is an odd number\")\n",
    "    "
   ]
  },
  {
   "cell_type": "markdown",
   "id": "f63431d2",
   "metadata": {},
   "source": [
    "---"
   ]
  },
  {
   "cell_type": "markdown",
   "id": "43f44be7",
   "metadata": {},
   "source": [
    "# 第五題\n",
    "寫一個程式，讓使用者輸入任一個整數值 $x$，接著程式會判斷此 $x$ 值是在 $100$ 到 $500$ 間，或是 $500$ 到 $1000$ 間。若不在上述兩區間則顯示 Out of Range。"
   ]
  },
  {
   "cell_type": "code",
   "execution_count": 17,
   "id": "b990ad22",
   "metadata": {},
   "outputs": [
    {
     "name": "stdout",
     "output_type": "stream",
     "text": [
      "Type x: 250\n",
      "250 is in [100, 500]\n"
     ]
    }
   ],
   "source": [
    "# 取值\n",
    "x = int(input(\"Type x: \"))\n",
    "\n",
    "if 100 <= x and x < 500:\n",
    "    print(x, \"is in [100, 500]\")\n",
    "elif 500 <= x and x < 1000:\n",
    "    print(x, \"is in [500, 1000]\")\n",
    "else:\n",
    "    print(\"Out of range\")"
   ]
  }
 ],
 "metadata": {
  "kernelspec": {
   "display_name": "Python 3 (ipykernel)",
   "language": "python",
   "name": "python3"
  },
  "language_info": {
   "codemirror_mode": {
    "name": "ipython",
    "version": 3
   },
   "file_extension": ".py",
   "mimetype": "text/x-python",
   "name": "python",
   "nbconvert_exporter": "python",
   "pygments_lexer": "ipython3",
   "version": "3.9.12"
  }
 },
 "nbformat": 4,
 "nbformat_minor": 5
}
