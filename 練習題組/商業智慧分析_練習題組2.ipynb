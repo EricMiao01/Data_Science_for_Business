{
 "cells": [
  {
   "cell_type": "markdown",
   "id": "6f6cea83",
   "metadata": {},
   "source": [
    "# 第一題\n",
    "寫一個程式，首先讓使用者輸入兩個正整數 $x$ 和 $y$，接著使用迴圈的觀念，印出 $1$ 到 $99$ 間，可以被 $x$ 整除，也可以被 $y$ 整除的數值。 "
   ]
  },
  {
   "cell_type": "code",
   "execution_count": 11,
   "id": "a9a1176c",
   "metadata": {},
   "outputs": [
    {
     "name": "stdout",
     "output_type": "stream",
     "text": [
      "Please type an integer: 4\n",
      "Please type an integer: 7\n",
      "The solution is: 28 56 84 "
     ]
    }
   ],
   "source": [
    "# 取得正整數 X, y\n",
    "x = int(input(\"Please type an integer: \"))\n",
    "y = int(input(\"Please type an integer: \"))\n",
    "\n",
    "print(\"The solution is: \", end = '')\n",
    "\n",
    "# Run 數字 1~99 的迴圈\n",
    "for i in range(1, 100):\n",
    "    if (i % x == 0) and (i % y == 0):\n",
    "        common_multi = i\n",
    "        print(common_multi, end = ' ')\n",
    "    else:\n",
    "        continue\n",
    "\n",
    "# i = 1        \n",
    "# while (i <= 100):\n",
    "#     if (i % x == 0) and (i % y == 0):\n",
    "#         common_multi = i\n",
    "#         print(common_multi, end = ' ')\n",
    "#     i += 1\n",
    "\n",
    "# i = 1\n",
    "# while True:\n",
    "#     if (i % x == 0) and (i % y == 0):\n",
    "#         common_multi = i\n",
    "#         print(common_multi, end = ' ')\n",
    "#     if (i == 100):\n",
    "#         break\n",
    "#     i += 1"
   ]
  },
  {
   "cell_type": "markdown",
   "id": "85f5b814",
   "metadata": {},
   "source": [
    "---"
   ]
  },
  {
   "cell_type": "markdown",
   "id": "7d90c136",
   "metadata": {},
   "source": [
    "# 第二題\n",
    "寫一個程式，首先讓使用者輸入一個正整數 $n$，接著利用迴圈的觀念讓使用\n",
    "者輸入 $n$ 次密碼的機會；當密碼輸入正確，則顯示 “密碼正確” 並結束程式。\n",
    "若密碼連續輸入錯誤達到 $n$ 次，則顯示 “登入失敗” 並結束程式。在這裡，\n",
    "我們假設正確的密碼是 $999$。 "
   ]
  },
  {
   "cell_type": "code",
   "execution_count": 16,
   "id": "0c4a6c51",
   "metadata": {},
   "outputs": [
    {
     "name": "stdout",
     "output_type": "stream",
     "text": [
      "Please type an integer n: 2\n",
      "Please type the password: 51\n",
      "Wrong password.\n",
      "Please type the password: 87\n",
      "Wrong password.\n",
      "Login Failed.\n"
     ]
    }
   ],
   "source": [
    "# 取得正整數 \n",
    "n = int(input(\"Please type an integer n: \"))\n",
    "\n",
    "# code 放全域的話可供使用者輸入；若放回圈中則會出現輸入 n 次的窘境\n",
    "code = 999\n",
    "\n",
    "i = 1\n",
    "while True:\n",
    "    password = int(input(\"Please type the password: \"))\n",
    "    if (password == code):\n",
    "        print(\"Successfully logged in!\")\n",
    "        break # 成功解鎖就直接跳出迴圈\n",
    "    else:\n",
    "        if (i != n): # 代表不是最後一次輸入機會\n",
    "            print(\"Wrong password.\")\n",
    "        else:\n",
    "            print(\"Wrong password.\")\n",
    "            print(\"Login Failed.\")\n",
    "            break\n",
    "    i += 1\n",
    "\n",
    "# for i in range(n): # i = 0, 1, 2, ... ,n - 1\n",
    "#     password = int(input(\"Please type the password: \"))\n",
    "#     if (password == code):\n",
    "#         print(\"Successfully logged in!\")\n",
    "#         break # 成功解鎖就直接跳出迴圈\n",
    "#     else:\n",
    "#         if (i != n - 1): # 代表不是最後一次輸入機會\n",
    "#             print(\"Wrong password.\")\n",
    "#         else:\n",
    "#             print(\"Wrong password.\")\n",
    "#             print(\"Login Failed.\")"
   ]
  },
  {
   "cell_type": "markdown",
   "id": "a622d39f",
   "metadata": {},
   "source": [
    "---"
   ]
  },
  {
   "cell_type": "markdown",
   "id": "5a9391b0",
   "metadata": {},
   "source": [
    "# 第三題\n",
    "寫一個程式，首先讓使用者輸入一個正整數 $n$，接著印出 $1$ 到 $n$ 之間所有的奇數。"
   ]
  },
  {
   "cell_type": "code",
   "execution_count": 21,
   "id": "ec6b7a0e",
   "metadata": {},
   "outputs": [
    {
     "name": "stdout",
     "output_type": "stream",
     "text": [
      "Plrase type an interger n: 10\n",
      "The odd numbers: 1 3 5 7 9 "
     ]
    }
   ],
   "source": [
    "# 取得整數 n\n",
    "n = int(input(\"Plrase type an interger n: \"))\n",
    "\n",
    "# print(\"The odd numbers: \", end = '')\n",
    "# for i in range(1, n + 1): # i = 1, 2, ... , n\n",
    "#     if (i % 2 != 0): # 代表此時 i 為 odd number\n",
    "#         print(i, end = ' ')\n",
    "\n",
    "# 除了上述的把印方式，我會更想嘗試用 list 儲存結果再直接打印 list\n",
    "ans = list()\n",
    "\n",
    "for i in range(1, n + 1): # i = 1, 2, ... , n\n",
    "    if (i % 2 != 0): # 代表此時 i 為 odd number\n",
    "        ans.append(i) # 將 odd number 存入答案列\n",
    "\n",
    "print(\"The odd numbers: \", end = '')\n",
    "for j in ans:\n",
    "    print(j, end = ' ')"
   ]
  },
  {
   "cell_type": "markdown",
   "id": "ee1bfdb4",
   "metadata": {},
   "source": [
    "---"
   ]
  },
  {
   "cell_type": "markdown",
   "id": "be47ba0f",
   "metadata": {},
   "source": [
    "# 第四題\n",
    "寫一個程式，首先讓使用者輸入兩個正整數 $x$ 和 $y$，接著使用迴圈的觀念，用以下範例的格式印出 $x^0, x^1, x^2, x^3, … , x^y$。"
   ]
  },
  {
   "cell_type": "code",
   "execution_count": 25,
   "id": "82bcc71b",
   "metadata": {},
   "outputs": [
    {
     "name": "stdout",
     "output_type": "stream",
     "text": [
      "Please type an integer x: 2\n",
      "Please type an integer y: 5\n",
      "The 1 st number is 1\n",
      "The 2 nd number is 2\n",
      "The 3 rd number is 4\n",
      "The 4 th number is 8\n",
      "The 5 th number is 16\n"
     ]
    }
   ],
   "source": [
    "# 取得參數\n",
    "x = int(input(\"Please type an integer x: \"))\n",
    "y = int(input(\"Please type an integer y: \"))\n",
    "\n",
    "for i in range(1, y + 1):\n",
    "    x_exp = x ** (i - 1)\n",
    "    if (i == 1):\n",
    "        print(\"The {} st number is {}\".format(i, x_exp))\n",
    "    elif (i == 2):\n",
    "        print(\"The {} nd number is {}\".format(i, x_exp))\n",
    "    elif (i == 3):\n",
    "        print(\"The {} rd number is {}\".format(i, x_exp))\n",
    "    else:\n",
    "        print(\"The {} th number is {}\".format(i, x_exp))"
   ]
  },
  {
   "cell_type": "markdown",
   "id": "810f5d97",
   "metadata": {},
   "source": [
    "---"
   ]
  },
  {
   "cell_type": "markdown",
   "id": "6241b039",
   "metadata": {},
   "source": [
    "# 第五題\n",
    "寫一個程式，首先讓使用者輸入一個正整數 $n$，接著利用迴圈的觀念讓使用者依序輸入 $n$ 次範圍為 $-999$ 至 $999$ 間的整數；輸入完成後顯示這 $n$ 個整數中的最小值。"
   ]
  },
  {
   "cell_type": "code",
   "execution_count": 26,
   "id": "b4b7be5c",
   "metadata": {},
   "outputs": [
    {
     "name": "stdout",
     "output_type": "stream",
     "text": [
      "Please type the number of integers n: 5\n",
      "Please type an integer: 6\n",
      "Please type an integer: 75\n",
      "Please type an integer: 9\n",
      "Please type an integer: -8\n",
      "Please type an integer: -45\n",
      "The min value is: -45\n"
     ]
    }
   ],
   "source": [
    "# 取得參數\n",
    "n = int(input(\"Please type the number of integers n: \"))\n",
    "\n",
    "# 先預先準備一個稍大的值供初次迴圈輸入時的比較基礎\n",
    "min_num = 999\n",
    "for i in range(n): # i = 0, 1, 2, 3, 4\n",
    "    num = int(input(\"Please type an integer: \"))\n",
    "    if (num < min_num):\n",
    "        min_num = num # 最終 min_num 即為所求\n",
    "        \n",
    "print(\"The min value is:\", min_num)"
   ]
  },
  {
   "cell_type": "markdown",
   "id": "1f1c23a1",
   "metadata": {},
   "source": [
    "---"
   ]
  },
  {
   "cell_type": "markdown",
   "id": "27098a80",
   "metadata": {},
   "source": [
    "# 第六題\n",
    "寫一個程式，可以讓使用者輸入不斷的輸入數個介於 $1$ 至 $999$ 間的整數，但若使用者輸入 $0$，則停止使用者輸入程序，並印出所輸入數的最大值。"
   ]
  },
  {
   "cell_type": "code",
   "execution_count": 27,
   "id": "b9238f62",
   "metadata": {},
   "outputs": [
    {
     "name": "stdout",
     "output_type": "stream",
     "text": [
      "Please type an integer: 99\n",
      "Please type an integer: 8\n",
      "Please type an integer: 108\n",
      "Please type an integer: 0\n",
      "The max value is 108\n"
     ]
    }
   ],
   "source": [
    "max_num = 1\n",
    "\n",
    "while True:\n",
    "    num = int(input(\"Please type an integer: \"))\n",
    "    if (num == 0):\n",
    "        print(\"The max value is\", max_num)\n",
    "        break\n",
    "    if (num > max_num):\n",
    "        max_num = num\n",
    "        "
   ]
  }
 ],
 "metadata": {
  "kernelspec": {
   "display_name": "Python 3 (ipykernel)",
   "language": "python",
   "name": "python3"
  },
  "language_info": {
   "codemirror_mode": {
    "name": "ipython",
    "version": 3
   },
   "file_extension": ".py",
   "mimetype": "text/x-python",
   "name": "python",
   "nbconvert_exporter": "python",
   "pygments_lexer": "ipython3",
   "version": "3.9.12"
  }
 },
 "nbformat": 4,
 "nbformat_minor": 5
}
