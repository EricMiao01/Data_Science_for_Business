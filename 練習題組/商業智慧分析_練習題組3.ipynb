{
  "nbformat": 4,
  "nbformat_minor": 0,
  "metadata": {
    "colab": {
      "provenance": [],
      "mount_file_id": "1vDwF04CqJiiJfhObOpwpo-eDEtLwpT7i",
      "authorship_tag": "ABX9TyOcKxz6HnrsFuA2naJj4WMc",
      "include_colab_link": true
    },
    "kernelspec": {
      "name": "python3",
      "display_name": "Python 3"
    },
    "language_info": {
      "name": "python"
    }
  },
  "cells": [
    {
      "cell_type": "markdown",
      "metadata": {
        "id": "view-in-github",
        "colab_type": "text"
      },
      "source": [
        "<a href=\"https://colab.research.google.com/github/EricMiao01/Data_Science_for_Business/blob/main/%E7%B7%B4%E7%BF%92%E9%A1%8C%E7%B5%84/%E5%95%86%E6%A5%AD%E6%99%BA%E6%85%A7%E5%88%86%E6%9E%90_%E7%B7%B4%E7%BF%92%E9%A1%8C%E7%B5%843.ipynb\" target=\"_parent\"><img src=\"https://colab.research.google.com/assets/colab-badge.svg\" alt=\"Open In Colab\"/></a>"
      ]
    },
    {
      "cell_type": "markdown",
      "source": [
        "# 第一題"
      ],
      "metadata": {
        "id": "_IYmY_wJQGCU"
      }
    },
    {
      "cell_type": "code",
      "execution_count": null,
      "metadata": {
        "colab": {
          "base_uri": "https://localhost:8080/"
        },
        "id": "IcwQ7MglP_im",
        "outputId": "b0de63ed-de35-430f-88e0-e515e70e0f3a"
      },
      "outputs": [
        {
          "output_type": "stream",
          "name": "stdout",
          "text": [
            "Please type a number: 1234\n",
            "The reverse of n is: 4321\n"
          ]
        }
      ],
      "source": [
        "num = input(\"Please type a number: \")\n",
        "answer = str() # 記錄答案\n",
        "\n",
        "for i in range(len(num), 0, -1):\n",
        "  answer += num[i-1]\n",
        "\n",
        "print(f'The reverse of n is: {answer}')"
      ]
    },
    {
      "cell_type": "markdown",
      "source": [
        "# 第二題"
      ],
      "metadata": {
        "id": "oLtXufrVRoR-"
      }
    },
    {
      "cell_type": "code",
      "source": [
        "n = int(input(\"Please type an integer n: \"))\n",
        "print(\"The triangle is:\")\n",
        "for i in range(n):\n",
        "  for j in range(n - i - 1): # 打印空格\n",
        "    print(\" \", end = '')\n",
        "  for k in range(2 * i + 1): # 數字有1, 3, 5, 7, 9 個\n",
        "    print(f'{i + 1}', end = '')\n",
        "  print() # 換行"
      ],
      "metadata": {
        "colab": {
          "base_uri": "https://localhost:8080/"
        },
        "id": "I2e-2ux5QqAK",
        "outputId": "84b033ca-9c9c-4c70-8182-e039b4195e46"
      },
      "execution_count": null,
      "outputs": [
        {
          "output_type": "stream",
          "name": "stdout",
          "text": [
            "Please type an integer n: 5\n",
            "The triangle is:\n",
            "    1\n",
            "   222\n",
            "  33333\n",
            " 4444444\n",
            "555555555\n"
          ]
        }
      ]
    },
    {
      "cell_type": "markdown",
      "source": [
        "# 第三題"
      ],
      "metadata": {
        "id": "FNMHrYmpTauf"
      }
    },
    {
      "cell_type": "code",
      "source": [
        "n = int(input(\"Please type an integer n: \"))\n",
        "print(\"The triangle is:\")\n",
        "for i in range(n):\n",
        "  if i == n - 1: # 最後一行打印一排＊\n",
        "    print(\"*\" * (2 * n - 1))\n",
        "    break\n",
        "\n",
        "  for j in range(n - i - 1): # 印左方空格加加一顆＊\n",
        "    print(\" \", end = '')\n",
        "  print(\"*\", end = '')\n",
        "  \n",
        "  if i >= 1: # 當印到第二排(i = 1)時開始印內部空格加右邊一顆＊\n",
        "    for k in range(2 * i - 1):\n",
        "      print(\" \", end = '')\n",
        "    print(\"*\", end = '')\n",
        "  print()"
      ],
      "metadata": {
        "colab": {
          "base_uri": "https://localhost:8080/"
        },
        "id": "BmrDExXqTAbr",
        "outputId": "8abb4765-731b-437a-ffeb-88d2f2ad95e9"
      },
      "execution_count": null,
      "outputs": [
        {
          "output_type": "stream",
          "name": "stdout",
          "text": [
            "Please type an integer n: 5\n",
            "The triangle is:\n",
            "    *\n",
            "   * *\n",
            "  *   *\n",
            " *     *\n",
            "*********\n"
          ]
        }
      ]
    },
    {
      "cell_type": "markdown",
      "source": [
        "# 第四題"
      ],
      "metadata": {
        "id": "pPC1gtkrXJLP"
      }
    },
    {
      "cell_type": "code",
      "source": [
        "x = int(input(\"Please type an integer x: \"))\n",
        "n = int(input(\"Please type an integer n: \"))\n",
        "sum = 0\n",
        "for i in range(n + 1):\n",
        "  factor = 1\n",
        "  for j in range(i, 0, -1): # i = 2 -> j = 2, 1 \n",
        "    factor *= j\n",
        "  sum += (x ** i) / factor\n",
        "print(f'The result of the series is: {int(sum)}') "
      ],
      "metadata": {
        "colab": {
          "base_uri": "https://localhost:8080/"
        },
        "id": "Jzy-g6gqVmFn",
        "outputId": "1f1bf0dc-3218-4146-f115-653cb8b17ecc"
      },
      "execution_count": null,
      "outputs": [
        {
          "output_type": "stream",
          "name": "stdout",
          "text": [
            "Please type an integer x: 10\n",
            "Please type an integer n: 2\n",
            "The result of the series is: 61\n"
          ]
        }
      ]
    },
    {
      "cell_type": "markdown",
      "source": [
        "# 第五題"
      ],
      "metadata": {
        "id": "yJgy9i5Qaclj"
      }
    },
    {
      "cell_type": "code",
      "source": [
        "n = int(input(\"Please type an integer: \"))\n",
        "print(\"The triangle is:\")\n",
        "\n",
        "for i in range(n):\n",
        "  for j in range(i + 1):\n",
        "    print(i + 1, end = '')\n",
        "  print()\n",
        "\n",
        "print(\"------------------\")\n",
        "\n",
        "for i in range(n):\n",
        "  for j in range(n - i - 1):\n",
        "    print(\" \", end = '')\n",
        "  for k in range(i + 1):\n",
        "    print(i + 1, end = '')\n",
        "  print()"
      ],
      "metadata": {
        "colab": {
          "base_uri": "https://localhost:8080/"
        },
        "id": "G_ias7nXaWNY",
        "outputId": "b69de49f-5e8e-410b-8c58-dde4c59c3850"
      },
      "execution_count": null,
      "outputs": [
        {
          "output_type": "stream",
          "name": "stdout",
          "text": [
            "Please type an integer: 4\n",
            "The triangle is:\n",
            "1\n",
            "22\n",
            "333\n",
            "4444\n",
            "------------------\n",
            "   1\n",
            "  22\n",
            " 333\n",
            "4444\n"
          ]
        }
      ]
    },
    {
      "cell_type": "markdown",
      "source": [
        "# 第六題\n"
      ],
      "metadata": {
        "id": "mw-Sp1Cqc2r1"
      }
    },
    {
      "cell_type": "code",
      "source": [
        "n = int(input(\"Please type an integer n : \"))\n",
        "\n",
        "count = 0\n",
        "for i in range(1, n + 1): # i = 1, 2, 3, 4\n",
        "  answer = str(i)\n",
        "  for j in range(1, n + 1): # j = 1, 2, 3, 4\n",
        "    if j == i:\n",
        "      continue\n",
        "    answer += str(j)\n",
        "    for k in range(1, n + 1): # k = 1, 2, 3, 4\n",
        "      answer = str(i) + str(j)\n",
        "      if k == i or k == j:\n",
        "        continue\n",
        "      answer += str(k)\n",
        "      print(answer, end = ' ')\n",
        "      count += 1\n",
        "\n",
        "print(f'\\nP{n}取3 = {count}')"
      ],
      "metadata": {
        "colab": {
          "base_uri": "https://localhost:8080/"
        },
        "id": "lW4njCeaa4nz",
        "outputId": "1e5c5554-f0e7-4679-e632-505ea074b78e"
      },
      "execution_count": 6,
      "outputs": [
        {
          "output_type": "stream",
          "name": "stdout",
          "text": [
            "Please type an integer n : 4\n",
            "123 124 132 134 142 143 213 214 231 234 241 243 312 314 321 324 341 342 412 413 421 423 431 432 \n",
            "P4取3 = 24\n"
          ]
        }
      ]
    },
    {
      "cell_type": "markdown",
      "source": [
        "# 第七題"
      ],
      "metadata": {
        "id": "QzP6jF7ej4-S"
      }
    },
    {
      "cell_type": "code",
      "source": [
        "a = int(input(\"Please type a: \"))\n",
        "b = int(input(\"Please type b: \"))\n",
        "\n",
        "if a < b:\n",
        "  min_num = a\n",
        "  max_num = b\n",
        "else:\n",
        "  min_num = b\n",
        "  max_num = a\n",
        "\n",
        "gcd = 0\n",
        "lcm = 0\n",
        "\n",
        "for i in range(1, min_num + 1):\n",
        "  if a % i == 0 and b % i == 0:\n",
        "    gcd = i\n",
        "print(\"GCD:\", gcd)\n",
        "\n",
        "i = max_num\n",
        "while True:\n",
        "  if i % a == 0 and i % b == 0:\n",
        "    lcm = i\n",
        "    break\n",
        "  else:\n",
        "    i += 1\n",
        "print(\"LCM:\", lcm)"
      ],
      "metadata": {
        "colab": {
          "base_uri": "https://localhost:8080/"
        },
        "id": "DzkDw6T4e7Mh",
        "outputId": "4998ef4f-a4be-4382-ca2c-b5fb3bfb065e"
      },
      "execution_count": null,
      "outputs": [
        {
          "output_type": "stream",
          "name": "stdout",
          "text": [
            "Please type a: 12\n",
            "Please type b: 16\n",
            "GCD: 4\n",
            "LCM: 48\n"
          ]
        }
      ]
    }
  ]
}