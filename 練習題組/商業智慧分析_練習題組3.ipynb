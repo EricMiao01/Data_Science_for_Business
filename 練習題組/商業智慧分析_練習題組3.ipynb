{
 "cells": [
  {
   "cell_type": "markdown",
   "id": "74909124",
   "metadata": {},
   "source": [
    "# 第一題"
   ]
  },
  {
   "cell_type": "code",
   "execution_count": 1,
   "id": "d4814855",
   "metadata": {},
   "outputs": [
    {
     "name": "stdout",
     "output_type": "stream",
     "text": [
      "Please type an intefer n: 12345\n",
      "The reverse of n is: 54321"
     ]
    }
   ],
   "source": [
    "num = input(\"Please type an intefer n: \")\n",
    "print(\"The reverse of n is: \", end = '')\n",
    "\n",
    "for i in range(1, len(num) + 1):\n",
    "    print(num[-i], end = '')\n",
    "    "
   ]
  },
  {
   "cell_type": "markdown",
   "id": "84aa531b",
   "metadata": {},
   "source": [
    "# 第二題"
   ]
  },
  {
   "cell_type": "code",
   "execution_count": 2,
   "id": "615e6074",
   "metadata": {},
   "outputs": [
    {
     "name": "stdout",
     "output_type": "stream",
     "text": [
      "Please type an integern: 5\n",
      "      1\n",
      "     222\n",
      "    33333\n",
      "   4444444\n",
      "  555555555\n"
     ]
    }
   ],
   "source": [
    "n = int(input(\"Please type an integern: \"))\n",
    "\n",
    "for i in range(n):\n",
    "    for j in range(n - i + 1): # 打印空格\n",
    "        print(' ', end = '')\n",
    "    \n",
    "    for k in range(i * 2 + 1):\n",
    "        print(i + 1, end = '') # 印數字\n",
    "    \n",
    "    print() # 換行\n",
    "    "
   ]
  },
  {
   "cell_type": "markdown",
   "id": "f688014b",
   "metadata": {},
   "source": [
    "# 第三題"
   ]
  },
  {
   "cell_type": "code",
   "execution_count": 3,
   "id": "33525437",
   "metadata": {},
   "outputs": [
    {
     "name": "stdout",
     "output_type": "stream",
     "text": [
      "Please type an integern: 5\n",
      "The triangle is: \n",
      "    *\n",
      "   * *\n",
      "  *   *\n",
      " *     *\n",
      "*********\n"
     ]
    }
   ],
   "source": [
    "n = int(input(\"Please type an integern: \"))\n",
    "print(\"The triangle is: \")\n",
    "\n",
    "for i in range(n):\n",
    "    if i == n - 1:\n",
    "        print('*' * (2 * n - 1))\n",
    "        break\n",
    "    \n",
    "    for j in range(n - i - 1):\n",
    "        print(' ', end = '')\n",
    "    print('*', end = '')\n",
    "    \n",
    "    if i >= 1: # 第二行開始印右半邊的東西\n",
    "        for j in range(i * 2 - 1):\n",
    "            print(' ', end = '')\n",
    "        print('*', end = '')\n",
    "    print()\n",
    "    "
   ]
  },
  {
   "cell_type": "markdown",
   "id": "e4ac7c60",
   "metadata": {},
   "source": [
    "# 第四題"
   ]
  },
  {
   "cell_type": "code",
   "execution_count": 4,
   "id": "0a7591a3",
   "metadata": {},
   "outputs": [
    {
     "name": "stdout",
     "output_type": "stream",
     "text": [
      "Please type an integer x: 10\n",
      "Please type an integer n: 2\n",
      "The result of the series is: 61\n"
     ]
    }
   ],
   "source": [
    "x = int(input(\"Please type an integer x: \"))\n",
    "n = int(input(\"Please type an integer n: \"))\n",
    "\n",
    "value = 0\n",
    "for i in range(n + 1): # i = 0, 1, 2\n",
    "    factor = 1\n",
    "    for j in range(1, i + 1):\n",
    "        factor *= j  \n",
    "    value += (x ** i) / factor\n",
    "\n",
    "print(\"The result of the series is:\", int(value))\n"
   ]
  },
  {
   "cell_type": "markdown",
   "id": "16bf1bd9",
   "metadata": {},
   "source": [
    "# 第五題"
   ]
  },
  {
   "cell_type": "code",
   "execution_count": 6,
   "id": "0b826c78",
   "metadata": {},
   "outputs": [
    {
     "name": "stdout",
     "output_type": "stream",
     "text": [
      "Please type an integer n: 5\n",
      "The triangle is:\n",
      "1\n",
      "22\n",
      "333\n",
      "4444\n",
      "55555\n",
      "-------\n",
      "    1\n",
      "   22\n",
      "  333\n",
      " 4444\n",
      "55555\n"
     ]
    }
   ],
   "source": [
    "n = int(input(\"Please type an integer n: \"))\n",
    "print(\"The triangle is:\")\n",
    "for i in range(n):\n",
    "    for j in range(i + 1):\n",
    "        print(i + 1, end = '')\n",
    "    print()\n",
    "\n",
    "print('-------')\n",
    "for i in range(n):\n",
    "    for j in range(n - i - 1):\n",
    "        print(' ', end = '')\n",
    "    for k in range(i + 1):\n",
    "        print(i + 1, end = '')\n",
    "    print()\n"
   ]
  },
  {
   "cell_type": "markdown",
   "id": "b43ab3de",
   "metadata": {},
   "source": [
    "# 第六題"
   ]
  },
  {
   "cell_type": "code",
   "execution_count": 8,
   "id": "836e0318",
   "metadata": {},
   "outputs": [
    {
     "name": "stdout",
     "output_type": "stream",
     "text": [
      "Please type an integer n: 3\n",
      "The result: 123, 132, 213, 231, 312, 321, "
     ]
    }
   ],
   "source": [
    "n = int(input(\"Please type an integer n: \"))\n",
    "print(\"The result: \", end = '')\n",
    "\n",
    "for i in range(1, n + 1):\n",
    "    for j in range(1, n + 1):\n",
    "        for k in range(1, n + 1):\n",
    "            if i != j and j != k and i != k:\n",
    "                print(str(i) + str(j) + str(k), end = ', ')\n",
    "                "
   ]
  },
  {
   "cell_type": "markdown",
   "id": "d93f5056",
   "metadata": {},
   "source": [
    "# 第七題"
   ]
  },
  {
   "cell_type": "code",
   "execution_count": 9,
   "id": "94ed4371",
   "metadata": {},
   "outputs": [
    {
     "name": "stdout",
     "output_type": "stream",
     "text": [
      "Please type a: 12\n",
      "Please type b: 16\n",
      "GCD of a and b: 4\n",
      "LCM of a and b: 48\n"
     ]
    }
   ],
   "source": [
    "a = int(input(\"Please type a: \"))\n",
    "b = int(input(\"Please type b: \"))\n",
    "\n",
    "num = 1\n",
    "gcd = int()\n",
    "lcm = int()\n",
    "\n",
    "while True:\n",
    "    if a % num == 0 and b % num == 0:\n",
    "        gcd = num\n",
    "    if num % a == 0 and num % b == 0:\n",
    "        lcm = num\n",
    "        break\n",
    "    num += 1\n",
    "\n",
    "print(\"GCD of a and b:\", gcd)\n",
    "print(\"LCM of a and b:\", lcm)\n"
   ]
  }
 ],
 "metadata": {
  "kernelspec": {
   "display_name": "Python 3 (ipykernel)",
   "language": "python",
   "name": "python3"
  },
  "language_info": {
   "codemirror_mode": {
    "name": "ipython",
    "version": 3
   },
   "file_extension": ".py",
   "mimetype": "text/x-python",
   "name": "python",
   "nbconvert_exporter": "python",
   "pygments_lexer": "ipython3",
   "version": "3.9.12"
  }
 },
 "nbformat": 4,
 "nbformat_minor": 5
}
