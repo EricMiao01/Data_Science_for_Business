{
 "cells": [
  {
   "cell_type": "markdown",
   "id": "ded526ef",
   "metadata": {},
   "source": [
    "# 第一題"
   ]
  },
  {
   "cell_type": "code",
   "execution_count": 1,
   "id": "69d2d7f1",
   "metadata": {},
   "outputs": [
    {
     "name": "stdout",
     "output_type": "stream",
     "text": [
      "Type an integer:1\n",
      "Type an integer:3\n",
      "[[1], [3]]\n",
      "Type an integer:7\n",
      "[[1], [3], [7]]\n",
      "Type an integer:7\n",
      "[[1], [3], [7, 7]]\n",
      "Type an integer:2\n",
      "[[1], [3], [7, 7], [2]]\n",
      "Type an integer:31\n",
      "The mode is: 7\n"
     ]
    }
   ],
   "source": [
    "numlist = [[]]\n",
    "i = 0\n",
    "num = int(input(\"Type an integer:\"))\n",
    "numlist[0].append(num)\n",
    "mode = num # 為了避免使用者只輸入一個數字就直接離開程式\n",
    "\n",
    "while True:\n",
    "    num = int(input(\"Type an integer:\"))\n",
    "    if num < 1 or num > 20:\n",
    "        print(\"The mode is:\", mode)\n",
    "        break\n",
    "    \n",
    "    for i in range(len(numlist)):\n",
    "        if num == numlist[i][0]: # 檢查第二維度是否已經存在此數字，若有則加入該數字\n",
    "            numlist[i].append(num)\n",
    "            break\n",
    "        if i == (len(numlist) - 1): # 檢查到最後一次仍無的話再新增一個空間放入數字\n",
    "            numlist.append([])\n",
    "            numlist[len(numlist) - 1].append(num)\n",
    "    \n",
    "    count = 0\n",
    "    for i in range(len(numlist)):\n",
    "        if len(numlist[i]) >= count:\n",
    "            count = len(numlist[i])\n",
    "            mode = numlist[i][0]  \n",
    "    \n",
    "    print(numlist)\n",
    "\n",
    "    "
   ]
  },
  {
   "cell_type": "markdown",
   "id": "af302f54",
   "metadata": {},
   "source": [
    "# 第二題"
   ]
  },
  {
   "cell_type": "code",
   "execution_count": 5,
   "id": "46a65961",
   "metadata": {},
   "outputs": [
    {
     "name": "stdout",
     "output_type": "stream",
     "text": [
      "4\n",
      "3\n",
      "2\n",
      "[[[0, 0], [0, 0], [0, 0]], [[0, 0], [0, 0], [0, 0]], [[0, 0], [0, 0], [0, 0]], [[0, 0], [0, 0], [0, 0]]]\n"
     ]
    }
   ],
   "source": [
    "array3d = []\n",
    "m = int(input())\n",
    "n = int(input())\n",
    "k = int(input())\n",
    "for a in range(m):\n",
    "    array3d.append([])\n",
    "    for b in range(n):\n",
    "        array3d[a].append([])\n",
    "        for c in range(k):\n",
    "            array3d[a][b].append(0)\n",
    "print(array3d) "
   ]
  },
  {
   "cell_type": "markdown",
   "id": "f3e6643b",
   "metadata": {},
   "source": [
    "# 第三題"
   ]
  },
  {
   "cell_type": "code",
   "execution_count": 15,
   "id": "8ce10994",
   "metadata": {},
   "outputs": [
    {
     "name": "stdout",
     "output_type": "stream",
     "text": [
      "Type the number of candidates n: 4\n",
      "Type the number of voters m: 4\n",
      "Type a selected candidate number (1-n) for the voter 1:1\n",
      "A valid vote!\n",
      "Type a selected candidate number (1-n) for the voter 2:1\n",
      "A valid vote!\n",
      "Type a selected candidate number (1-n) for the voter 3:2\n",
      "A valid vote!\n",
      "Type a selected candidate number (1-n) for the voter 4:5\n",
      "An invalid vote! No candidate 5.\n",
      "The winner is the candidate 1 with 2 valid votes.\n",
      "The number of invalid votes: 1\n"
     ]
    }
   ],
   "source": [
    "n = int(input(\"Type the number of candidates n: \"))\n",
    "m = int(input(\"Type the number of voters m: \"))\n",
    "\n",
    "candidate = []\n",
    "invalidvote = 0\n",
    "for i in range(n):\n",
    "    candidate.append([])\n",
    "for j in range(m):\n",
    "    i = int(input(f'Type a selected candidate number (1-n) for the voter {j + 1}:'))\n",
    "    if i > n:\n",
    "        print(f\"An invalid vote! No candidate {i}.\")\n",
    "        invalidvote += 1\n",
    "    else:\n",
    "        print(\"A valid vote!\")\n",
    "        candidate[i - 1].append(1)\n",
    "    \n",
    "count = []\n",
    "for i in range(n):\n",
    "    count.append(len(candidate[i]))\n",
    "\n",
    "winner = []\n",
    "max_num = 0\n",
    "for i in range(n):\n",
    "    if count[i] >= max_num:\n",
    "        max_num = count[i]\n",
    "        winner.append(i + 1)\n",
    "\n",
    "if len(winner) == 1:\n",
    "    print(f\"The winner is the candidate {winner[0]} with {count[winner[0] - 1]} valid votes.\")\n",
    "else:\n",
    "    print(f\"A tie game. {len(winner)} candidates have the same number of the votes\")\n",
    "\n",
    "print(f\"The number of invalid votes: {invalidvote}\")\n",
    "\n",
    "# print(candidate)\n",
    "# print(count)\n",
    "# print(winner)"
   ]
  },
  {
   "cell_type": "code",
   "execution_count": null,
   "id": "904c26d6",
   "metadata": {},
   "outputs": [],
   "source": []
  }
 ],
 "metadata": {
  "kernelspec": {
   "display_name": "Python 3 (ipykernel)",
   "language": "python",
   "name": "python3"
  },
  "language_info": {
   "codemirror_mode": {
    "name": "ipython",
    "version": 3
   },
   "file_extension": ".py",
   "mimetype": "text/x-python",
   "name": "python",
   "nbconvert_exporter": "python",
   "pygments_lexer": "ipython3",
   "version": "3.8.13"
  }
 },
 "nbformat": 4,
 "nbformat_minor": 5
}
