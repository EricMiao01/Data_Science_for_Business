{
 "cells": [
  {
   "cell_type": "markdown",
   "id": "609288b4",
   "metadata": {},
   "source": [
    "# 第一題"
   ]
  },
  {
   "cell_type": "code",
   "execution_count": 1,
   "id": "657c7ef5",
   "metadata": {},
   "outputs": [
    {
     "name": "stdout",
     "output_type": "stream",
     "text": [
      "Type an integer:1\n",
      "Type an integer:7\n",
      "Type an integer:20\n",
      "Type an integer:7\n",
      "Type an integer:3\n",
      "Type an integer:31\n",
      "2\n",
      "The mode is: 7 "
     ]
    }
   ],
   "source": [
    "num = [[], []] # 二維資料結構，第一 row 紀錄候選數字名單；第二 row 紀錄票數\n",
    "\n",
    "while True:\n",
    "    x = int(input(\"Type an integer:\"))\n",
    "    if x < 1 or x > 20:\n",
    "        break    \n",
    "    if x not in num[0]: # 若 x 不在候選數字名單中\n",
    "        num[0].append(x)\n",
    "        num[1].append(1)\n",
    "    else:\n",
    "        num[1][num[0].index(x)] += 1 # 若已存在則在第二 row 該 x 位置加一\n",
    "\n",
    "maxnum = max(num[1]) # 取得最高票數為多少\n",
    "mod = [] # 紀錄眾數(可能有兩個以上，故使用list)\n",
    "\n",
    "for i in range(len(num[0])): # 取得票數最多的候選人，可能同時有兩個以上\n",
    "    if num[1][i] == maxnum:\n",
    "        mod.append(num[0][i])\n",
    "    \n",
    "# 印出結果\n",
    "print(\"The mode is: \", end = '')\n",
    "for anum in mod:\n",
    "    print(anum, end = ' ')\n"
   ]
  },
  {
   "cell_type": "markdown",
   "id": "aa485978",
   "metadata": {},
   "source": [
    "# 第二題"
   ]
  },
  {
   "cell_type": "code",
   "execution_count": 7,
   "id": "b1c53109",
   "metadata": {},
   "outputs": [
    {
     "name": "stdout",
     "output_type": "stream",
     "text": [
      "m: 2\n",
      "n: 3\n",
      "k: 4\n",
      "[[[0, 0, 0, 0], [0, 0, 0, 0], [0, 0, 0, 0]], [[0, 0, 0, 0], [0, 0, 0, 0], [0, 0, 0, 0]]]\n"
     ]
    }
   ],
   "source": [
    "m = int(input(\"m: \"))\n",
    "n = int(input(\"n: \"))\n",
    "k = int(input(\"k: \"))\n",
    "\n",
    "arrange3d = []\n",
    "for a in range(m):\n",
    "    arrange3d.append([])\n",
    "    for b in range(n):\n",
    "        arrange3d[a].append([])\n",
    "        for c in range(k):\n",
    "            arrange3d[a][b].append(0)\n",
    "\n",
    "print(arrange3d)\n"
   ]
  },
  {
   "cell_type": "markdown",
   "id": "9acbad1b",
   "metadata": {},
   "source": [
    "# 第三題"
   ]
  },
  {
   "cell_type": "code",
   "execution_count": 2,
   "id": "7920b547",
   "metadata": {},
   "outputs": [
    {
     "name": "stdout",
     "output_type": "stream",
     "text": [
      "Type the number of candidates n:2\n",
      "Type the number of voters m:4\n",
      "Type a selected candidate number (1-n) for the voter 1:1\n",
      "A valid vote!\n",
      "Type a selected candidate number (1-n) for the voter 2:2\n",
      "A valid vote!\n",
      "Type a selected candidate number (1-n) for the voter 3:1\n",
      "A valid vote!\n",
      "Type a selected candidate number (1-n) for the voter 4:3\n",
      "An invalid vote! No candidate 3.\n",
      "The winner is the candidate 1 with 2 valid votes.\n",
      "The number of invalid votes: 1\n"
     ]
    }
   ],
   "source": [
    "n = int(input(\"Type the number of candidates n:\"))\n",
    "m = int(input(\"Type the number of voters m:\"))\n",
    "\n",
    "num = [[], []]\n",
    "invalid_vote = 0\n",
    "\n",
    "for i in range(m): # 有 m 個投票者，故投 m 次\n",
    "    x = int(input(f\"Type a selected candidate number (1-n) for the voter {i + 1}:\"))\n",
    "    if x < 1 or x > n:\n",
    "        print(f\"An invalid vote! No candidate {x}.\")\n",
    "        invalid_vote += 1\n",
    "        continue # 雖然為非法的投票，迴圈仍繼續給下一位投票者投票\n",
    "    else:\n",
    "        print(\"A valid vote!\")\n",
    "    \n",
    "    if x not in num[0]:\n",
    "        num[0].append(x) # row 1 仍然紀錄候選人 num = [[1, 2],\n",
    "        num[1].append(1) # row 2 紀錄得票數           [2, 1]]\n",
    "    else:\n",
    "        num[1][num[0].index(x)] += 1\n",
    "\n",
    "maxnum = max(num[1])\n",
    "mod = []\n",
    "\n",
    "for i in range(len(num[1])):\n",
    "    if num[1][i] == maxnum:\n",
    "        mod.append(num[0][i])\n",
    "    \n",
    "if len(mod) == 1: # 只有一個最高得票者的情況\n",
    "    print(f\"The winner is the candidate {mod[0]} with {maxnum} valid votes.\")\n",
    "else: # 最高得票者超過一位的情況\n",
    "    print(f\"A tie game. {len(mod)} candidates have the same number of votes\")\n",
    "print(\"The number of invalid votes:\", invalid_vote)\n"
   ]
  }
 ],
 "metadata": {
  "kernelspec": {
   "display_name": "Python 3 (ipykernel)",
   "language": "python",
   "name": "python3"
  },
  "language_info": {
   "codemirror_mode": {
    "name": "ipython",
    "version": 3
   },
   "file_extension": ".py",
   "mimetype": "text/x-python",
   "name": "python",
   "nbconvert_exporter": "python",
   "pygments_lexer": "ipython3",
   "version": "3.9.12"
  }
 },
 "nbformat": 4,
 "nbformat_minor": 5
}
