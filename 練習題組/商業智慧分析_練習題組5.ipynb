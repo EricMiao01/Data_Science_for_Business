{
  "nbformat": 4,
  "nbformat_minor": 0,
  "metadata": {
    "colab": {
      "provenance": [],
      "collapsed_sections": [],
      "authorship_tag": "ABX9TyMQ54I5TpOm1Jz9+N6ntb73",
      "include_colab_link": true
    },
    "kernelspec": {
      "name": "python3",
      "display_name": "Python 3"
    },
    "language_info": {
      "name": "python"
    }
  },
  "cells": [
    {
      "cell_type": "markdown",
      "metadata": {
        "id": "view-in-github",
        "colab_type": "text"
      },
      "source": [
        "<a href=\"https://colab.research.google.com/github/EricMiao01/Data_Science_for_Business/blob/main/%E7%B7%B4%E7%BF%92%E9%A1%8C%E7%B5%84/%E5%95%86%E6%A5%AD%E6%99%BA%E6%85%A7%E5%88%86%E6%9E%90_%E7%B7%B4%E7%BF%92%E9%A1%8C%E7%B5%845.ipynb\" target=\"_parent\"><img src=\"https://colab.research.google.com/assets/colab-badge.svg\" alt=\"Open In Colab\"/></a>"
      ]
    },
    {
      "cell_type": "markdown",
      "source": [
        "# 第一題"
      ],
      "metadata": {
        "id": "8nONuNFnNySb"
      }
    },
    {
      "cell_type": "code",
      "execution_count": null,
      "metadata": {
        "colab": {
          "base_uri": "https://localhost:8080/"
        },
        "id": "1CmvSvmPNtZh",
        "outputId": "fd74a0c2-eb93-4ca4-c95f-645f91f4d539"
      },
      "outputs": [
        {
          "output_type": "stream",
          "name": "stdout",
          "text": [
            "The list of 10 random sorted integers between 2 and 10:\n",
            "2 3 3 4 6 6 8 9 10 10 \n",
            "Please type the 1th integer: 2\n",
            "1 same integers in the list\n",
            "Please type the 2th integer: 5\n",
            "0 same integers in the list\n",
            "Please type the 3th integer: 10\n",
            "2 same integers in the list\n"
          ]
        }
      ],
      "source": [
        "import random\n",
        "def genRandomList(l, u, n): # [l, u] 間抽 n 個亂數\n",
        "    array =[]    \n",
        "    for i in range(n):\n",
        "        array.append(random.randrange(l, u + 1))\n",
        "    return array\n",
        "\n",
        "def sortList(alist): # 手刻 list.sort() 方法\n",
        "    for i in range(1, len(alist)):\n",
        "        for j in range(0, len(alist) - i):\n",
        "            if alist[j] > alist[j + 1]:\n",
        "                tmp = alist[j]\n",
        "                alist[j] = alist[j + 1]\n",
        "                alist[j + 1] = tmp\n",
        "    return alist\n",
        "\n",
        "def mainFunction(alist):\n",
        "    print(\"The list of 10 random sorted integers between 2 and 10:\")\n",
        "    for anum in alist:\n",
        "        print(anum, end = ' ')\n",
        "    print()\n",
        "    for i in range(3):\n",
        "        num = int(input(f\"Please type the {i + 1}th integer: \"))\n",
        "        freq = alist.count(num)\n",
        "        print(f\"{freq} same integers in the list\")\n",
        "\n",
        "list0 = genRandomList(2, 10, 10)\n",
        "list1 = sortList(list0)\n",
        "mainFunction(list1)"
      ]
    },
    {
      "cell_type": "markdown",
      "source": [
        "# 第二題"
      ],
      "metadata": {
        "id": "HBMBez23OEVK"
      }
    },
    {
      "cell_type": "code",
      "source": [
        "n = int(input(\"Please type an integer n: \"))\n",
        "print(f\"Please type {n} values sequentially:\")\n",
        "alist = []\n",
        "for i in range(n):\n",
        "    num = float(input())\n",
        "    alist.append(num)\n",
        "print(\"The sorted list is:\")\n",
        "alist.sort(reverse = True)\n",
        "for anum in alist:\n",
        "    if anum % 1 == 0:\n",
        "      print(int(anum), end = '; ')\n",
        "      continue\n",
        "    print(anum, end = '; ')"
      ],
      "metadata": {
        "colab": {
          "base_uri": "https://localhost:8080/"
        },
        "id": "Z30G4KVgOGlR",
        "outputId": "6449ecea-4e9c-4871-bbf3-e926a382da2e"
      },
      "execution_count": null,
      "outputs": [
        {
          "output_type": "stream",
          "name": "stdout",
          "text": [
            "Please type an integer n: 5\n",
            "Please type 5 values sequentially:\n",
            "3.1\n",
            "7.478\n",
            "1\n",
            "6\n",
            "99.88\n",
            "The sorted list is:\n",
            "99.88; 7.478; 6; 3.1; 1; "
          ]
        }
      ]
    },
    {
      "cell_type": "markdown",
      "source": [
        "# 第三題（重寫）"
      ],
      "metadata": {
        "id": "lg7Mmrv0TCYL"
      }
    },
    {
      "cell_type": "code",
      "source": [
        "import random\n",
        "\n",
        "def printGrade(alist):\n",
        "  for i in range(len(alist)):\n",
        "    print(f'Student {i + 1}:', end = ' ')\n",
        "    for j in range(len(alist[i])):\n",
        "      print(alist[i][j], end = ',')\n",
        "    print()\n",
        "\n",
        "n = int(input(\"Please type the number of students n:\"))\n",
        "m = int(input(\"Please type the number of exams per students m:\"))\n",
        "\n",
        "# 生成每位學生隨機的成績\n",
        "grade = []\n",
        "for i in range(n):\n",
        "  grade.append([])\n",
        "  for j in range(m):\n",
        "    grade[i].append(random.randrange(60, 101))\n",
        "# print(grade)\n",
        "\n",
        "print(\"The grade of the students are (random):\")\n",
        "printGrade(grade)\n",
        "\n",
        "# 排序學生成績\n",
        "for i in range(len(grade)):\n",
        "  grade[i].sort()\n",
        "\n",
        "print(\"The sorted grade of the students are:\")\n",
        "printGrade(grade)\n"
      ],
      "metadata": {
        "id": "YbwDbOmcTB2m",
        "outputId": "1056e526-7d71-46a5-94c7-de07f670e323",
        "colab": {
          "base_uri": "https://localhost:8080/"
        }
      },
      "execution_count": 5,
      "outputs": [
        {
          "output_type": "stream",
          "name": "stdout",
          "text": [
            "Please type the number of students n:2\n",
            "Please type the number of exams per students m:3\n",
            "[[100, 71, 98], [60, 61, 88]]\n",
            "The grade of the students are (random):\n",
            "Student 1: 100,71,98,\n",
            "Student 2: 60,61,88,\n",
            "The sorted grade of the students are:\n",
            "Student 1: 71,98,100,\n",
            "Student 2: 60,61,88,\n"
          ]
        }
      ]
    },
    {
      "cell_type": "markdown",
      "source": [
        "# 第四題"
      ],
      "metadata": {
        "id": "OlolzdysXbxZ"
      }
    },
    {
      "cell_type": "code",
      "source": [
        "import random\n",
        "\n",
        "def printMatrix(array):\n",
        "  for i in range(len(array)):\n",
        "    for j in range(len(array[i])):\n",
        "      print(array[i][j], end = ', ')\n",
        "    print()\n",
        "\n",
        "def rotateClockwise(array, counter): # counter is a boolean variable\n",
        "  newarray = []\n",
        "  for i in range(len(array[0])): # i = 0 1 2\n",
        "    newarray.append([])\n",
        "    for j in range(len(array)): # j = 0 1\n",
        "      if counter != True:\n",
        "        newarray[i].append(array[-(j + 1)][i])\n",
        "      else:\n",
        "        newarray[i].append(array[j][-(i + 1)])\n",
        "  printMatrix(newarray)\n",
        "\n",
        "n = int(input(\"Pleast type an integer n: \"))\n",
        "m = int(input(\"Please type an integer m: \"))\n",
        "\n",
        "num = []\n",
        "for i in range(n):\n",
        "  num.append([])\n",
        "  for j in range(m):\n",
        "    num[i].append(random.randrange(60, 101))\n",
        "\n",
        "print(\"A 2Dim matrix is (random): \")\n",
        "printMatrix(num)\n",
        "print(\"After rorating the matrix 90 degree clockwise:\")\n",
        "rotateClockwise(num, False)\n",
        "print(\"After rotating the matrix 90 degree countclockwise:\")\n",
        "rotateClockwise(num, True)"
      ],
      "metadata": {
        "colab": {
          "base_uri": "https://localhost:8080/"
        },
        "id": "LxhebY-sWL0U",
        "outputId": "fda16921-f520-476a-b101-815692721edb"
      },
      "execution_count": 1,
      "outputs": [
        {
          "output_type": "stream",
          "name": "stdout",
          "text": [
            "Pleast type an integer n: 2\n",
            "Please type an integer m: 3\n",
            "A 2Dim matrix is (random): \n",
            "76, 82, 83, \n",
            "68, 81, 86, \n",
            "After rorating the matrix 90 degree clockwise:\n",
            "68, 76, \n",
            "81, 82, \n",
            "86, 83, \n",
            "After rotating the matrix 90 degree countclockwise:\n",
            "83, 86, \n",
            "82, 81, \n",
            "76, 68, \n"
          ]
        }
      ]
    },
    {
      "cell_type": "markdown",
      "source": [
        "# 第五題"
      ],
      "metadata": {
        "id": "k5azGrfDxU6D"
      }
    },
    {
      "cell_type": "code",
      "source": [
        "txt = input(\"Please type a string: \")\n",
        "print(\"The reverse is: \")\n",
        "for i in range(len(txt)):\n",
        "    print(txt[-(i + 1)], end = '')"
      ],
      "metadata": {
        "id": "jvA8dyODhtj1",
        "colab": {
          "base_uri": "https://localhost:8080/"
        },
        "outputId": "bad0d953-6109-481e-8dcc-28aec5f8420c"
      },
      "execution_count": null,
      "outputs": [
        {
          "output_type": "stream",
          "name": "stdout",
          "text": [
            "Please type a string: NYCUMS is 50 years old\n",
            "The reverse is: \n",
            "dlo sraey 05 si SMUCYN"
          ]
        }
      ]
    },
    {
      "cell_type": "markdown",
      "source": [
        "# 第六題"
      ],
      "metadata": {
        "id": "W6SawHXAAUvL"
      }
    },
    {
      "cell_type": "code",
      "source": [
        "'''\n",
        "ASCII\n",
        "65 - 90 are A - Z\n",
        "97 - 122 are a - z\n",
        "48 - 57 are 0 - 9\n",
        "'''\n",
        "\n",
        "txt = input(\"Please type a string: \")\n",
        "small = []\n",
        "for i in range(len(txt)):\n",
        "    if 97 <= ord(txt[i]) and ord(txt[i]) <= 122: # ord()取得ACSII碼 chr()取得內碼對應文字\n",
        "        small.append(txt[i])\n",
        "print(\"The number of lowercase characters is:\", len(small)) "
      ],
      "metadata": {
        "colab": {
          "base_uri": "https://localhost:8080/"
        },
        "id": "E-KIwyXJAW55",
        "outputId": "cbf15937-6a47-42c0-8a36-86b847d5db54"
      },
      "execution_count": null,
      "outputs": [
        {
          "output_type": "stream",
          "name": "stdout",
          "text": [
            "Please type a string: NYCUMS is 50 years old\n",
            "The number of lowercase characters is: 10\n"
          ]
        }
      ]
    },
    {
      "cell_type": "markdown",
      "source": [
        "# 第七題"
      ],
      "metadata": {
        "id": "gHsPfp00COfW"
      }
    },
    {
      "cell_type": "code",
      "source": [
        "txt = input(\"Please type a string: \")\n",
        "txt1 = txt.split(' ')\n",
        "print(\"The separated strings are:\")\n",
        "for astr in txt1:\n",
        "    print(astr)   "
      ],
      "metadata": {
        "colab": {
          "base_uri": "https://localhost:8080/"
        },
        "id": "Q5OmZ7JdCQFI",
        "outputId": "8c7eb3e3-4cfc-4732-f443-b006488b1e48"
      },
      "execution_count": null,
      "outputs": [
        {
          "output_type": "stream",
          "name": "stdout",
          "text": [
            "Please type a string: We are in the school!\n",
            "The separated strings are:\n",
            "We\n",
            "are\n",
            "in\n",
            "the\n",
            "school!\n"
          ]
        }
      ]
    }
  ]
}