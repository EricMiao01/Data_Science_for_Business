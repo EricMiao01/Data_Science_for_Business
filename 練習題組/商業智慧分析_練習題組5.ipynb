{
  "nbformat": 4,
  "nbformat_minor": 0,
  "metadata": {
    "colab": {
      "provenance": [],
      "collapsed_sections": [],
      "authorship_tag": "ABX9TyPbtD/X2WfFxtvCxfKUFriX",
      "include_colab_link": true
    },
    "kernelspec": {
      "name": "python3",
      "display_name": "Python 3"
    },
    "language_info": {
      "name": "python"
    }
  },
  "cells": [
    {
      "cell_type": "markdown",
      "metadata": {
        "id": "view-in-github",
        "colab_type": "text"
      },
      "source": [
        "<a href=\"https://colab.research.google.com/github/EricMiao01/Data_Science_for_Business/blob/main/%E7%B7%B4%E7%BF%92%E9%A1%8C%E7%B5%84/%E5%95%86%E6%A5%AD%E6%99%BA%E6%85%A7%E5%88%86%E6%9E%90_%E7%B7%B4%E7%BF%92%E9%A1%8C%E7%B5%845.ipynb\" target=\"_parent\"><img src=\"https://colab.research.google.com/assets/colab-badge.svg\" alt=\"Open In Colab\"/></a>"
      ]
    },
    {
      "cell_type": "markdown",
      "source": [
        "# 第一題"
      ],
      "metadata": {
        "id": "8nONuNFnNySb"
      }
    },
    {
      "cell_type": "code",
      "execution_count": null,
      "metadata": {
        "colab": {
          "base_uri": "https://localhost:8080/"
        },
        "id": "1CmvSvmPNtZh",
        "outputId": "fd74a0c2-eb93-4ca4-c95f-645f91f4d539"
      },
      "outputs": [
        {
          "output_type": "stream",
          "name": "stdout",
          "text": [
            "The list of 10 random sorted integers between 2 and 10:\n",
            "2 3 3 4 6 6 8 9 10 10 \n",
            "Please type the 1th integer: 2\n",
            "1 same integers in the list\n",
            "Please type the 2th integer: 5\n",
            "0 same integers in the list\n",
            "Please type the 3th integer: 10\n",
            "2 same integers in the list\n"
          ]
        }
      ],
      "source": [
        "import random\n",
        "def genRandomList(l, u, n): # [l, u] 間抽 n 個亂數\n",
        "    array =[]    \n",
        "    for i in range(n):\n",
        "        array.append(random.randrange(l, u + 1))\n",
        "    return array\n",
        "\n",
        "def sortList(alist): # 手刻 list.sort() 方法\n",
        "    for i in range(1, len(alist)):\n",
        "        for j in range(0, len(alist) - i):\n",
        "            if alist[j] > alist[j + 1]:\n",
        "                tmp = alist[j]\n",
        "                alist[j] = alist[j + 1]\n",
        "                alist[j + 1] = tmp\n",
        "    return alist\n",
        "\n",
        "def mainFunction(alist):\n",
        "    print(\"The list of 10 random sorted integers between 2 and 10:\")\n",
        "    for anum in alist:\n",
        "        print(anum, end = ' ')\n",
        "    print()\n",
        "    for i in range(3):\n",
        "        num = int(input(f\"Please type the {i + 1}th integer: \"))\n",
        "        freq = alist.count(num)\n",
        "        print(f\"{freq} same integers in the list\")\n",
        "\n",
        "list0 = genRandomList(2, 10, 10)\n",
        "list1 = sortList(list0)\n",
        "mainFunction(list1)"
      ]
    },
    {
      "cell_type": "markdown",
      "source": [
        "# 第二題"
      ],
      "metadata": {
        "id": "HBMBez23OEVK"
      }
    },
    {
      "cell_type": "code",
      "source": [
        "n = int(input(\"Please type an integer n: \"))\n",
        "print(f\"Please type {n} values sequentially:\")\n",
        "alist = []\n",
        "for i in range(n):\n",
        "    num = float(input())\n",
        "    alist.append(num)\n",
        "print(\"The sorted list is:\")\n",
        "alist.sort(reverse = True)\n",
        "for anum in alist:\n",
        "    if anum % 1 == 0:\n",
        "      print(int(anum), end = '; ')\n",
        "      continue\n",
        "    print(anum, end = '; ')"
      ],
      "metadata": {
        "colab": {
          "base_uri": "https://localhost:8080/"
        },
        "id": "Z30G4KVgOGlR",
        "outputId": "6449ecea-4e9c-4871-bbf3-e926a382da2e"
      },
      "execution_count": null,
      "outputs": [
        {
          "output_type": "stream",
          "name": "stdout",
          "text": [
            "Please type an integer n: 5\n",
            "Please type 5 values sequentially:\n",
            "3.1\n",
            "7.478\n",
            "1\n",
            "6\n",
            "99.88\n",
            "The sorted list is:\n",
            "99.88; 7.478; 6; 3.1; 1; "
          ]
        }
      ]
    },
    {
      "cell_type": "markdown",
      "source": [
        "# 第三題"
      ],
      "metadata": {
        "id": "xa4AwohAQ-J-"
      }
    },
    {
      "cell_type": "code",
      "source": [
        "import random\n",
        "\n",
        "def printStuGrade(name, alist):\n",
        "  print(name, end = ': ')\n",
        "  for element in alist:\n",
        "    print(element, end = ',')\n",
        "  print()\n",
        "\n",
        "n = int(input(\"Please type the number of students n: \"))\n",
        "m = int(input(\"Please type the number of exams per student m: \"))\n",
        "\n",
        "stu1 = list()\n",
        "stu2 = list()\n",
        "\n",
        "for i in range(m):\n",
        "  stu1.append(random.randrange(60, 101))\n",
        "  stu2.append(random.randrange(60, 101))\n",
        "\n",
        "print(\"The grade of the students are (random):\")\n",
        "printStuGrade(\"Student 1\", stu1)\n",
        "printStuGrade(\"Student 2\", stu2)\n",
        "\n",
        "stu1.sort()\n",
        "stu2.sort()\n",
        "\n",
        "print(\"The grade of the students are: \")\n",
        "printStuGrade(\"Student 1\", stu1)\n",
        "printStuGrade(\"Student 2\", stu2)"
      ],
      "metadata": {
        "id": "QpWH0fGLQ38G",
        "colab": {
          "base_uri": "https://localhost:8080/"
        },
        "outputId": "7ac0d63f-3322-44d0-de8c-e08c119d424e"
      },
      "execution_count": null,
      "outputs": [
        {
          "output_type": "stream",
          "name": "stdout",
          "text": [
            "Please type the number of students n: 2\n",
            "Please type the number of exams per student m: 3\n",
            "The grade of the students are (random):\n",
            "Student 1: 93,88,80,\n",
            "Student 2: 71,66,96,\n",
            "The grade of the students are: \n",
            "Student 1: 80,88,93,\n",
            "Student 2: 66,71,96,\n"
          ]
        }
      ]
    },
    {
      "cell_type": "markdown",
      "source": [
        "# 第四題"
      ],
      "metadata": {
        "id": "wXWmWWGJZRMN"
      }
    },
    {
      "cell_type": "code",
      "source": [
        "import random\n",
        "\n",
        "def printMatrix(array):\n",
        "  for i in range(len(array)):\n",
        "    for j in range(len(array[i])):\n",
        "      print(array[i][j], end = ', ')\n",
        "    print()\n",
        "\n",
        "def rotateClockwise(array):\n",
        "  newarray = []\n",
        "  for i in range(len(array[0])): # i = 0 1 2\n",
        "    newarray.append([])\n",
        "    for j in range(len(array)): # j = 0 1\n",
        "      newarray[i].append(array[-(j + 1)][i])\n",
        "  printMatrix(newarray)\n",
        "\n",
        "def rotateCounterClockwise(array):\n",
        "  newarray = []\n",
        "  for i in range(len(array[0])):\n",
        "    newarray.append([])\n",
        "    for j in range(len(array)):\n",
        "      newarray[i].append(array[j][-(i + 1)])\n",
        "  printMatrix(newarray)\n",
        "\n",
        "n = int(input(\"Pleast type an integer n: \"))\n",
        "m = int(input(\"Please type an integer m: \"))\n",
        "\n",
        "num = []\n",
        "for i in range(n):\n",
        "  num.append([])\n",
        "  for j in range(m):\n",
        "    num[i].append(random.randrange(60, 101))\n",
        "\n",
        "print(\"A 2Dim matrix is (random): \")\n",
        "printMatrix(num)\n",
        "print(\"After rorating the matrix 90 degree clockwise:\")\n",
        "rotateClockwise(num)\n",
        "print(\"After rotating the matrix 90 degree countclockwise:\")\n",
        "rotateCounterClockwise(num)"
      ],
      "metadata": {
        "colab": {
          "base_uri": "https://localhost:8080/"
        },
        "id": "LxhebY-sWL0U",
        "outputId": "843b5a19-44c9-4072-8e83-8938c7dc645d"
      },
      "execution_count": null,
      "outputs": [
        {
          "output_type": "stream",
          "name": "stdout",
          "text": [
            "Pleast type an integer n: 2\n",
            "Please type an integer m: 3\n",
            "A 2Dim matrix is (random): \n",
            "85, 70, 98, \n",
            "90, 84, 61, \n",
            "After rorating the matrix 90 degree clockwise:\n",
            "90, 85, \n",
            "84, 70, \n",
            "61, 98, \n",
            "After rotating the matrix 90 degree countclockwise:\n",
            "98, 61, \n",
            "70, 84, \n",
            "85, 90, \n"
          ]
        }
      ]
    },
    {
      "cell_type": "markdown",
      "source": [
        "# 第五題"
      ],
      "metadata": {
        "id": "k5azGrfDxU6D"
      }
    },
    {
      "cell_type": "code",
      "source": [
        "txt = input(\"Please type a string: \")\n",
        "print(\"The reverse is: \")\n",
        "for i in range(len(txt)):\n",
        "    print(txt[-(i + 1)], end = '')"
      ],
      "metadata": {
        "id": "jvA8dyODhtj1",
        "colab": {
          "base_uri": "https://localhost:8080/"
        },
        "outputId": "bad0d953-6109-481e-8dcc-28aec5f8420c"
      },
      "execution_count": 1,
      "outputs": [
        {
          "output_type": "stream",
          "name": "stdout",
          "text": [
            "Please type a string: NYCUMS is 50 years old\n",
            "The reverse is: \n",
            "dlo sraey 05 si SMUCYN"
          ]
        }
      ]
    },
    {
      "cell_type": "markdown",
      "source": [
        "# 第六題"
      ],
      "metadata": {
        "id": "W6SawHXAAUvL"
      }
    },
    {
      "cell_type": "code",
      "source": [
        "'''\n",
        "ASCII\n",
        "65 - 90 are A - Z\n",
        "97 - 122 are a - z\n",
        "48 - 57 are 0 - 9\n",
        "'''\n",
        "\n",
        "txt = input(\"Please type a string: \")\n",
        "small = []\n",
        "for i in range(len(txt)):\n",
        "    if 97 <= ord(txt[i]) and ord(txt[i]) <= 122: # ord()取得ACSII碼 chr()取得內碼對應文字\n",
        "        small.append(txt[i])\n",
        "print(\"The number of lowercase characters is:\", len(small)) "
      ],
      "metadata": {
        "colab": {
          "base_uri": "https://localhost:8080/"
        },
        "id": "E-KIwyXJAW55",
        "outputId": "cbf15937-6a47-42c0-8a36-86b847d5db54"
      },
      "execution_count": 2,
      "outputs": [
        {
          "output_type": "stream",
          "name": "stdout",
          "text": [
            "Please type a string: NYCUMS is 50 years old\n",
            "The number of lowercase characters is: 10\n"
          ]
        }
      ]
    },
    {
      "cell_type": "markdown",
      "source": [
        "# 第七題"
      ],
      "metadata": {
        "id": "gHsPfp00COfW"
      }
    },
    {
      "cell_type": "code",
      "source": [
        "txt = input(\"Please type a string: \")\n",
        "txt1 = txt.split(' ')\n",
        "print(\"The separated strings are:\")\n",
        "for astr in txt1:\n",
        "    print(astr)   "
      ],
      "metadata": {
        "colab": {
          "base_uri": "https://localhost:8080/"
        },
        "id": "Q5OmZ7JdCQFI",
        "outputId": "8c7eb3e3-4cfc-4732-f443-b006488b1e48"
      },
      "execution_count": 3,
      "outputs": [
        {
          "output_type": "stream",
          "name": "stdout",
          "text": [
            "Please type a string: We are in the school!\n",
            "The separated strings are:\n",
            "We\n",
            "are\n",
            "in\n",
            "the\n",
            "school!\n"
          ]
        }
      ]
    }
  ]
}